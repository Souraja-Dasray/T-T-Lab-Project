{
 "cells": [
  {
   "cell_type": "code",
   "execution_count": 1,
   "id": "efd1b24c",
   "metadata": {},
   "outputs": [],
   "source": [
    "import json\n",
    "import os\n",
    "import math\n",
    "import librosa"
   ]
  },
  {
   "cell_type": "code",
   "execution_count": 3,
   "id": "f90d6bbb",
   "metadata": {},
   "outputs": [],
   "source": [
    "with open('data_finaloriginal.json', \"r\") as f:\n",
    "    data1 = json.load(f)\n",
    "    \n",
    "x1 = data1['mfcc']\n",
    "y1 = data1['labels']"
   ]
  },
  {
   "cell_type": "code",
   "execution_count": 4,
   "id": "fbcfebbc",
   "metadata": {},
   "outputs": [],
   "source": [
    "with open('data_final.json', \"r\") as f:\n",
    "    data2 = json.load(f)\n",
    "    \n",
    "x2 = data2['mfcc']\n",
    "y2 = data2['labels']"
   ]
  },
  {
   "cell_type": "code",
   "execution_count": 5,
   "id": "091a91e0",
   "metadata": {},
   "outputs": [],
   "source": [
    "with open('data_finalpitchlowered.json', \"r\") as f:\n",
    "    data3 = json.load(f)\n",
    "    \n",
    "x3 = data3['mfcc']\n",
    "y3 = data3['labels']"
   ]
  },
  {
   "cell_type": "code",
   "execution_count": 6,
   "id": "0be9fc36",
   "metadata": {},
   "outputs": [],
   "source": [
    "with open('data_finalrateboosted.json', \"r\") as f:\n",
    "    data4 = json.load(f)\n",
    "    \n",
    "x4 = data4['mfcc']\n",
    "y4 = data4['labels']"
   ]
  },
  {
   "cell_type": "code",
   "execution_count": 8,
   "id": "ab3f770c",
   "metadata": {},
   "outputs": [],
   "source": [
    "with open('data_finalratelowerd.json', \"r\") as f:\n",
    "    data5 = json.load(f)\n",
    "    \n",
    "x5 = data5['mfcc']\n",
    "y5 = data5['labels']"
   ]
  },
  {
   "cell_type": "code",
   "execution_count": 10,
   "id": "11167c76",
   "metadata": {},
   "outputs": [
    {
     "data": {
      "text/plain": [
       "list"
      ]
     },
     "execution_count": 10,
     "metadata": {},
     "output_type": "execute_result"
    }
   ],
   "source": [
    "type(x1)"
   ]
  },
  {
   "cell_type": "code",
   "execution_count": 12,
   "id": "84034261",
   "metadata": {},
   "outputs": [],
   "source": [
    "import numpy as np\n",
    "\n",
    "Xargs = (np.array(x1), np.array(x2), np.array(x3), np.array(x4), np.array(x5))\n",
    "yargs = (np.array(y1), np.array(y2), np.array(y3), np.array(y4), np.array(y5))"
   ]
  },
  {
   "cell_type": "code",
   "execution_count": 13,
   "id": "c6f97089",
   "metadata": {},
   "outputs": [],
   "source": [
    "X = np.concatenate(Xargs)\n",
    "y = np.concatenate(yargs)"
   ]
  },
  {
   "cell_type": "code",
   "execution_count": 14,
   "id": "ae15c14f",
   "metadata": {},
   "outputs": [
    {
     "data": {
      "text/plain": [
       "8"
      ]
     },
     "execution_count": 14,
     "metadata": {},
     "output_type": "execute_result"
    }
   ],
   "source": [
    "import gc\n",
    "\n",
    "del data1\n",
    "del x1\n",
    "del y1\n",
    "del data2\n",
    "del x2\n",
    "del y2\n",
    "del data3\n",
    "del x3\n",
    "del y3\n",
    "del data4\n",
    "del x4\n",
    "del y4\n",
    "del data5\n",
    "del x5\n",
    "del y5\n",
    "del Xargs\n",
    "del yargs\n",
    "\n",
    "gc.collect()"
   ]
  },
  {
   "cell_type": "code",
   "execution_count": 15,
   "id": "59e16d3a",
   "metadata": {},
   "outputs": [],
   "source": [
    "import json\n",
    "import numpy as np\n",
    "from sklearn.model_selection import train_test_split\n",
    "import tensorflow.keras as keras\n",
    "import matplotlib.pyplot as plt\n",
    "import random\n",
    "import librosa\n",
    "import math"
   ]
  },
  {
   "cell_type": "code",
   "execution_count": 16,
   "id": "045ac76f",
   "metadata": {},
   "outputs": [],
   "source": [
    "X_train, X_test, y_train, y_test = train_test_split(X, y, test_size=0.25)\n",
    "X_train, X_validation, y_train, y_validation = train_test_split(X_train, y_train, test_size=0.2)\n",
    "\n",
    "X_train = X_train[..., np.newaxis]\n",
    "X_validation = X_validation[..., np.newaxis]\n",
    "X_test = X_test[..., np.newaxis]\n",
    "input_shape = (X_train.shape[1], X_train.shape[2], 1)\n"
   ]
  },
  {
   "cell_type": "code",
   "execution_count": 17,
   "id": "1e5981e0",
   "metadata": {},
   "outputs": [],
   "source": [
    "model_cnn = keras.Sequential()\n",
    "\n",
    "model_cnn.add(keras.layers.Conv2D(32, (3, 3), activation='relu', input_shape=input_shape))\n",
    "model_cnn.add(keras.layers.MaxPooling2D((3, 3), strides=(2, 2), padding='same'))\n",
    "model_cnn.add(keras.layers.BatchNormalization())\n",
    "\n",
    "model_cnn.add(keras.layers.Conv2D(32, (3, 3), activation='relu'))\n",
    "model_cnn.add(keras.layers.MaxPooling2D((3, 3), strides=(2, 2), padding='same'))\n",
    "model_cnn.add(keras.layers.BatchNormalization())\n",
    "\n",
    "model_cnn.add(keras.layers.Conv2D(32, (2, 2), activation='relu'))\n",
    "model_cnn.add(keras.layers.MaxPooling2D((2, 2), strides=(2, 2), padding='same'))\n",
    "model_cnn.add(keras.layers.BatchNormalization())\n",
    "\n",
    "model_cnn.add(keras.layers.Flatten())\n",
    "model_cnn.add(keras.layers.Dense(64, activation='relu'))\n",
    "model_cnn.add(keras.layers.Dropout(0.3))\n",
    "\n",
    "model_cnn.add(keras.layers.Dense(10, activation='softmax'))\n",
    "\n",
    "optimiser = keras.optimizers.Adam(learning_rate=0.0001)\n"
   ]
  },
  {
   "cell_type": "code",
   "execution_count": 18,
   "id": "d5316066",
   "metadata": {},
   "outputs": [
    {
     "name": "stdout",
     "output_type": "stream",
     "text": [
      "Model: \"sequential\"\n",
      "_________________________________________________________________\n",
      " Layer (type)                Output Shape              Param #   \n",
      "=================================================================\n",
      " conv2d (Conv2D)             (None, 128, 11, 32)       320       \n",
      "                                                                 \n",
      " max_pooling2d (MaxPooling2D  (None, 64, 6, 32)        0         \n",
      " )                                                               \n",
      "                                                                 \n",
      " batch_normalization (BatchN  (None, 64, 6, 32)        128       \n",
      " ormalization)                                                   \n",
      "                                                                 \n",
      " conv2d_1 (Conv2D)           (None, 62, 4, 32)         9248      \n",
      "                                                                 \n",
      " max_pooling2d_1 (MaxPooling  (None, 31, 2, 32)        0         \n",
      " 2D)                                                             \n",
      "                                                                 \n",
      " batch_normalization_1 (Batc  (None, 31, 2, 32)        128       \n",
      " hNormalization)                                                 \n",
      "                                                                 \n",
      " conv2d_2 (Conv2D)           (None, 30, 1, 32)         4128      \n",
      "                                                                 \n",
      " max_pooling2d_2 (MaxPooling  (None, 15, 1, 32)        0         \n",
      " 2D)                                                             \n",
      "                                                                 \n",
      " batch_normalization_2 (Batc  (None, 15, 1, 32)        128       \n",
      " hNormalization)                                                 \n",
      "                                                                 \n",
      " flatten (Flatten)           (None, 480)               0         \n",
      "                                                                 \n",
      " dense (Dense)               (None, 64)                30784     \n",
      "                                                                 \n",
      " dropout (Dropout)           (None, 64)                0         \n",
      "                                                                 \n",
      " dense_1 (Dense)             (None, 10)                650       \n",
      "                                                                 \n",
      "=================================================================\n",
      "Total params: 45,514\n",
      "Trainable params: 45,322\n",
      "Non-trainable params: 192\n",
      "_________________________________________________________________\n"
     ]
    }
   ],
   "source": [
    "model_cnn.summary()"
   ]
  },
  {
   "cell_type": "code",
   "execution_count": 19,
   "id": "3f49282c",
   "metadata": {},
   "outputs": [
    {
     "name": "stdout",
     "output_type": "stream",
     "text": [
      "Epoch 1/75\n",
      "918/918 [==============================] - 25s 26ms/step - loss: 1.9127 - accuracy: 0.3418 - val_loss: 1.4265 - val_accuracy: 0.4938\n",
      "Epoch 2/75\n",
      "918/918 [==============================] - 28s 30ms/step - loss: 1.5021 - accuracy: 0.4652 - val_loss: 1.2406 - val_accuracy: 0.5584\n",
      "Epoch 3/75\n",
      "918/918 [==============================] - 28s 30ms/step - loss: 1.3603 - accuracy: 0.5215 - val_loss: 1.1462 - val_accuracy: 0.5988\n",
      "Epoch 4/75\n",
      "918/918 [==============================] - 28s 30ms/step - loss: 1.2618 - accuracy: 0.5564 - val_loss: 1.0539 - val_accuracy: 0.6307\n",
      "Epoch 5/75\n",
      "918/918 [==============================] - 28s 31ms/step - loss: 1.1769 - accuracy: 0.5866 - val_loss: 1.0056 - val_accuracy: 0.6502\n",
      "Epoch 6/75\n",
      "918/918 [==============================] - 28s 30ms/step - loss: 1.1156 - accuracy: 0.6110 - val_loss: 0.9639 - val_accuracy: 0.6691\n",
      "Epoch 7/75\n",
      "918/918 [==============================] - 28s 31ms/step - loss: 1.0686 - accuracy: 0.6299 - val_loss: 0.9789 - val_accuracy: 0.6600\n",
      "Epoch 8/75\n",
      "918/918 [==============================] - 31s 34ms/step - loss: 1.0209 - accuracy: 0.6450 - val_loss: 0.9003 - val_accuracy: 0.6876\n",
      "Epoch 9/75\n",
      "918/918 [==============================] - 29s 32ms/step - loss: 0.9838 - accuracy: 0.6578 - val_loss: 0.8669 - val_accuracy: 0.6996\n",
      "Epoch 10/75\n",
      "918/918 [==============================] - 29s 32ms/step - loss: 0.9451 - accuracy: 0.6705 - val_loss: 0.8364 - val_accuracy: 0.7139\n",
      "Epoch 11/75\n",
      "918/918 [==============================] - 29s 32ms/step - loss: 0.9074 - accuracy: 0.6839 - val_loss: 0.8336 - val_accuracy: 0.7128\n",
      "Epoch 12/75\n",
      "918/918 [==============================] - 30s 33ms/step - loss: 0.8836 - accuracy: 0.6940 - val_loss: 0.8226 - val_accuracy: 0.7161\n",
      "Epoch 13/75\n",
      "918/918 [==============================] - 31s 34ms/step - loss: 0.8616 - accuracy: 0.7025 - val_loss: 0.7963 - val_accuracy: 0.7286\n",
      "Epoch 14/75\n",
      "918/918 [==============================] - 32s 35ms/step - loss: 0.8410 - accuracy: 0.7098 - val_loss: 0.7693 - val_accuracy: 0.7327\n",
      "Epoch 15/75\n",
      "918/918 [==============================] - 35s 38ms/step - loss: 0.8170 - accuracy: 0.7199 - val_loss: 0.8363 - val_accuracy: 0.7118\n",
      "Epoch 16/75\n",
      "918/918 [==============================] - 37s 40ms/step - loss: 0.7938 - accuracy: 0.7252 - val_loss: 0.7808 - val_accuracy: 0.7266\n",
      "Epoch 17/75\n",
      "918/918 [==============================] - 35s 38ms/step - loss: 0.7733 - accuracy: 0.7337 - val_loss: 0.7449 - val_accuracy: 0.7413\n",
      "Epoch 18/75\n",
      "918/918 [==============================] - 34s 37ms/step - loss: 0.7593 - accuracy: 0.7402 - val_loss: 0.6916 - val_accuracy: 0.7634\n",
      "Epoch 19/75\n",
      "918/918 [==============================] - 32s 35ms/step - loss: 0.7480 - accuracy: 0.7451 - val_loss: 0.6945 - val_accuracy: 0.7575\n",
      "Epoch 20/75\n",
      "918/918 [==============================] - 33s 36ms/step - loss: 0.7302 - accuracy: 0.7479 - val_loss: 0.7003 - val_accuracy: 0.7574\n",
      "Epoch 21/75\n",
      "918/918 [==============================] - 33s 36ms/step - loss: 0.7106 - accuracy: 0.7561 - val_loss: 0.6850 - val_accuracy: 0.7676\n",
      "Epoch 22/75\n",
      "918/918 [==============================] - 35s 38ms/step - loss: 0.6934 - accuracy: 0.7601 - val_loss: 0.6938 - val_accuracy: 0.7578\n",
      "Epoch 23/75\n",
      "918/918 [==============================] - 36s 40ms/step - loss: 0.6794 - accuracy: 0.7646 - val_loss: 0.6611 - val_accuracy: 0.7776\n",
      "Epoch 24/75\n",
      "918/918 [==============================] - 37s 40ms/step - loss: 0.6727 - accuracy: 0.7674 - val_loss: 0.6460 - val_accuracy: 0.7799\n",
      "Epoch 25/75\n",
      "918/918 [==============================] - 34s 37ms/step - loss: 0.6617 - accuracy: 0.7720 - val_loss: 0.6433 - val_accuracy: 0.7827\n",
      "Epoch 26/75\n",
      "918/918 [==============================] - 32s 35ms/step - loss: 0.6443 - accuracy: 0.7778 - val_loss: 0.6395 - val_accuracy: 0.7814\n",
      "Epoch 27/75\n",
      "918/918 [==============================] - 37s 40ms/step - loss: 0.6362 - accuracy: 0.7787 - val_loss: 0.6191 - val_accuracy: 0.7908\n",
      "Epoch 28/75\n",
      "918/918 [==============================] - 35s 38ms/step - loss: 0.6238 - accuracy: 0.7836 - val_loss: 0.6172 - val_accuracy: 0.7841\n",
      "Epoch 29/75\n",
      "918/918 [==============================] - 36s 40ms/step - loss: 0.6140 - accuracy: 0.7898 - val_loss: 0.6435 - val_accuracy: 0.7776\n",
      "Epoch 30/75\n",
      "918/918 [==============================] - 37s 40ms/step - loss: 0.6027 - accuracy: 0.7925 - val_loss: 0.5980 - val_accuracy: 0.7924\n",
      "Epoch 31/75\n",
      "918/918 [==============================] - 37s 40ms/step - loss: 0.6030 - accuracy: 0.7885 - val_loss: 0.6117 - val_accuracy: 0.7848\n",
      "Epoch 32/75\n",
      "918/918 [==============================] - 36s 39ms/step - loss: 0.5890 - accuracy: 0.7981 - val_loss: 0.6554 - val_accuracy: 0.7706\n",
      "Epoch 33/75\n",
      "918/918 [==============================] - 34s 37ms/step - loss: 0.5832 - accuracy: 0.7985 - val_loss: 0.6027 - val_accuracy: 0.7916\n",
      "Epoch 34/75\n",
      "918/918 [==============================] - 34s 37ms/step - loss: 0.5735 - accuracy: 0.8017 - val_loss: 0.6247 - val_accuracy: 0.7820\n",
      "Epoch 35/75\n",
      "918/918 [==============================] - 36s 39ms/step - loss: 0.5649 - accuracy: 0.8020 - val_loss: 0.6050 - val_accuracy: 0.7921\n",
      "Epoch 36/75\n",
      "918/918 [==============================] - 37s 40ms/step - loss: 0.5574 - accuracy: 0.8069 - val_loss: 0.5885 - val_accuracy: 0.7947\n",
      "Epoch 37/75\n",
      "918/918 [==============================] - 36s 40ms/step - loss: 0.5483 - accuracy: 0.8116 - val_loss: 0.5883 - val_accuracy: 0.7940\n",
      "Epoch 38/75\n",
      "918/918 [==============================] - 35s 38ms/step - loss: 0.5383 - accuracy: 0.8118 - val_loss: 0.5751 - val_accuracy: 0.8040\n",
      "Epoch 39/75\n",
      "918/918 [==============================] - 34s 37ms/step - loss: 0.5356 - accuracy: 0.8151 - val_loss: 0.6081 - val_accuracy: 0.7879\n",
      "Epoch 40/75\n",
      "918/918 [==============================] - 34s 37ms/step - loss: 0.5301 - accuracy: 0.8193 - val_loss: 0.5759 - val_accuracy: 0.7985\n",
      "Epoch 41/75\n",
      "918/918 [==============================] - 35s 38ms/step - loss: 0.5242 - accuracy: 0.8188 - val_loss: 0.5773 - val_accuracy: 0.7963\n",
      "Epoch 42/75\n",
      "918/918 [==============================] - 37s 40ms/step - loss: 0.5144 - accuracy: 0.8217 - val_loss: 0.5538 - val_accuracy: 0.8094\n",
      "Epoch 43/75\n",
      "918/918 [==============================] - 37s 41ms/step - loss: 0.5098 - accuracy: 0.8233 - val_loss: 0.5472 - val_accuracy: 0.8085\n",
      "Epoch 44/75\n",
      "918/918 [==============================] - 35s 38ms/step - loss: 0.4967 - accuracy: 0.8289 - val_loss: 0.5403 - val_accuracy: 0.8116\n",
      "Epoch 45/75\n",
      "918/918 [==============================] - 34s 37ms/step - loss: 0.4948 - accuracy: 0.8266 - val_loss: 0.6107 - val_accuracy: 0.7898\n",
      "Epoch 46/75\n",
      "918/918 [==============================] - 35s 38ms/step - loss: 0.4868 - accuracy: 0.8287 - val_loss: 0.5536 - val_accuracy: 0.8052\n",
      "Epoch 47/75\n",
      "918/918 [==============================] - 35s 38ms/step - loss: 0.4856 - accuracy: 0.8305 - val_loss: 0.5723 - val_accuracy: 0.8052\n",
      "Epoch 48/75\n",
      "918/918 [==============================] - 35s 38ms/step - loss: 0.4797 - accuracy: 0.8323 - val_loss: 0.5862 - val_accuracy: 0.7984\n",
      "Epoch 49/75\n",
      "918/918 [==============================] - 37s 40ms/step - loss: 0.4786 - accuracy: 0.8332 - val_loss: 0.5531 - val_accuracy: 0.8105\n",
      "Epoch 50/75\n",
      "918/918 [==============================] - 37s 41ms/step - loss: 0.4681 - accuracy: 0.8358 - val_loss: 0.5570 - val_accuracy: 0.8093\n",
      "Epoch 51/75\n",
      "918/918 [==============================] - 34s 37ms/step - loss: 0.4604 - accuracy: 0.8376 - val_loss: 0.5324 - val_accuracy: 0.8128\n",
      "Epoch 52/75\n",
      "918/918 [==============================] - 33s 36ms/step - loss: 0.4524 - accuracy: 0.8421 - val_loss: 0.6369 - val_accuracy: 0.7876\n",
      "Epoch 53/75\n",
      "918/918 [==============================] - 33s 36ms/step - loss: 0.4508 - accuracy: 0.8426 - val_loss: 0.5511 - val_accuracy: 0.8130\n",
      "Epoch 54/75\n",
      "918/918 [==============================] - 34s 38ms/step - loss: 0.4500 - accuracy: 0.8430 - val_loss: 0.5490 - val_accuracy: 0.8107\n",
      "Epoch 55/75\n",
      "918/918 [==============================] - 36s 40ms/step - loss: 0.4416 - accuracy: 0.8456 - val_loss: 0.5549 - val_accuracy: 0.8090\n",
      "Epoch 56/75\n",
      "918/918 [==============================] - 37s 41ms/step - loss: 0.4438 - accuracy: 0.8442 - val_loss: 0.5573 - val_accuracy: 0.8105\n",
      "Epoch 57/75\n",
      "918/918 [==============================] - 37s 40ms/step - loss: 0.4396 - accuracy: 0.8441 - val_loss: 0.5461 - val_accuracy: 0.8122\n",
      "Epoch 58/75\n",
      "918/918 [==============================] - 36s 39ms/step - loss: 0.4289 - accuracy: 0.8496 - val_loss: 0.5405 - val_accuracy: 0.8120\n",
      "Epoch 59/75\n",
      "918/918 [==============================] - 35s 38ms/step - loss: 0.4268 - accuracy: 0.8508 - val_loss: 0.5359 - val_accuracy: 0.8098\n",
      "Epoch 60/75\n",
      "918/918 [==============================] - 34s 37ms/step - loss: 0.4281 - accuracy: 0.8489 - val_loss: 0.5269 - val_accuracy: 0.8180\n",
      "Epoch 61/75\n",
      "918/918 [==============================] - 36s 40ms/step - loss: 0.4211 - accuracy: 0.8517 - val_loss: 0.5174 - val_accuracy: 0.8222\n",
      "Epoch 62/75\n",
      "918/918 [==============================] - 37s 40ms/step - loss: 0.4206 - accuracy: 0.8524 - val_loss: 0.5501 - val_accuracy: 0.8127\n",
      "Epoch 63/75\n",
      "918/918 [==============================] - 44s 48ms/step - loss: 0.4182 - accuracy: 0.8525 - val_loss: 0.5120 - val_accuracy: 0.8258\n",
      "Epoch 64/75\n",
      "918/918 [==============================] - 39s 42ms/step - loss: 0.4050 - accuracy: 0.8558 - val_loss: 0.5480 - val_accuracy: 0.8139\n",
      "Epoch 65/75\n",
      "918/918 [==============================] - 34s 37ms/step - loss: 0.4068 - accuracy: 0.8542 - val_loss: 0.5550 - val_accuracy: 0.8111\n",
      "Epoch 66/75\n",
      "918/918 [==============================] - 39s 42ms/step - loss: 0.3997 - accuracy: 0.8601 - val_loss: 0.5421 - val_accuracy: 0.8154\n",
      "Epoch 67/75\n",
      "918/918 [==============================] - 37s 40ms/step - loss: 0.4048 - accuracy: 0.8585 - val_loss: 0.5680 - val_accuracy: 0.8096\n",
      "Epoch 68/75\n",
      "918/918 [==============================] - 33s 36ms/step - loss: 0.3948 - accuracy: 0.8615 - val_loss: 0.5122 - val_accuracy: 0.8240\n",
      "Epoch 69/75\n",
      "918/918 [==============================] - 35s 38ms/step - loss: 0.3891 - accuracy: 0.8617 - val_loss: 0.5114 - val_accuracy: 0.8228\n",
      "Epoch 70/75\n",
      "918/918 [==============================] - 36s 39ms/step - loss: 0.3916 - accuracy: 0.8619 - val_loss: 0.5035 - val_accuracy: 0.8241\n",
      "Epoch 71/75\n",
      "918/918 [==============================] - 47s 51ms/step - loss: 0.3836 - accuracy: 0.8664 - val_loss: 0.5145 - val_accuracy: 0.8240\n",
      "Epoch 72/75\n",
      "918/918 [==============================] - 35s 38ms/step - loss: 0.3810 - accuracy: 0.8655 - val_loss: 0.5374 - val_accuracy: 0.8168\n",
      "Epoch 73/75\n",
      "918/918 [==============================] - 37s 40ms/step - loss: 0.3759 - accuracy: 0.8661 - val_loss: 0.5295 - val_accuracy: 0.8207\n",
      "Epoch 74/75\n",
      "918/918 [==============================] - 38s 41ms/step - loss: 0.3748 - accuracy: 0.8649 - val_loss: 0.5873 - val_accuracy: 0.8070\n",
      "Epoch 75/75\n",
      "918/918 [==============================] - 41s 45ms/step - loss: 0.3788 - accuracy: 0.8645 - val_loss: 0.5546 - val_accuracy: 0.8120\n"
     ]
    },
    {
     "ename": "NameError",
     "evalue": "name 'plot_history' is not defined",
     "output_type": "error",
     "traceback": [
      "\u001b[1;31m---------------------------------------------------------------------------\u001b[0m",
      "\u001b[1;31mNameError\u001b[0m                                 Traceback (most recent call last)",
      "\u001b[1;32m~\\AppData\\Local\\Temp/ipykernel_10912/3474696414.py\u001b[0m in \u001b[0;36m<module>\u001b[1;34m\u001b[0m\n\u001b[0;32m      4\u001b[0m \u001b[1;33m\u001b[0m\u001b[0m\n\u001b[0;32m      5\u001b[0m \u001b[0mhistory\u001b[0m \u001b[1;33m=\u001b[0m \u001b[0mmodel_cnn\u001b[0m\u001b[1;33m.\u001b[0m\u001b[0mfit\u001b[0m\u001b[1;33m(\u001b[0m\u001b[0mX_train\u001b[0m\u001b[1;33m,\u001b[0m \u001b[0my_train\u001b[0m\u001b[1;33m,\u001b[0m \u001b[0mvalidation_data\u001b[0m\u001b[1;33m=\u001b[0m\u001b[1;33m(\u001b[0m\u001b[0mX_validation\u001b[0m\u001b[1;33m,\u001b[0m \u001b[0my_validation\u001b[0m\u001b[1;33m)\u001b[0m\u001b[1;33m,\u001b[0m \u001b[0mbatch_size\u001b[0m\u001b[1;33m=\u001b[0m\u001b[1;36m32\u001b[0m\u001b[1;33m,\u001b[0m \u001b[0mepochs\u001b[0m\u001b[1;33m=\u001b[0m\u001b[1;36m75\u001b[0m\u001b[1;33m)\u001b[0m\u001b[1;33m\u001b[0m\u001b[1;33m\u001b[0m\u001b[0m\n\u001b[1;32m----> 6\u001b[1;33m \u001b[0mplot_history\u001b[0m\u001b[1;33m(\u001b[0m\u001b[0mhistory\u001b[0m\u001b[1;33m)\u001b[0m\u001b[1;33m\u001b[0m\u001b[1;33m\u001b[0m\u001b[0m\n\u001b[0m\u001b[0;32m      7\u001b[0m \u001b[1;33m\u001b[0m\u001b[0m\n\u001b[0;32m      8\u001b[0m \u001b[0mtest_loss\u001b[0m\u001b[1;33m,\u001b[0m \u001b[0mtest_acc\u001b[0m \u001b[1;33m=\u001b[0m \u001b[0mmodel_cnn\u001b[0m\u001b[1;33m.\u001b[0m\u001b[0mevaluate\u001b[0m\u001b[1;33m(\u001b[0m\u001b[0mX_test\u001b[0m\u001b[1;33m,\u001b[0m \u001b[0my_test\u001b[0m\u001b[1;33m,\u001b[0m \u001b[0mverbose\u001b[0m\u001b[1;33m=\u001b[0m\u001b[1;36m2\u001b[0m\u001b[1;33m)\u001b[0m\u001b[1;33m\u001b[0m\u001b[1;33m\u001b[0m\u001b[0m\n",
      "\u001b[1;31mNameError\u001b[0m: name 'plot_history' is not defined"
     ]
    }
   ],
   "source": [
    "model_cnn.compile(optimizer=optimiser,\n",
    "              loss='sparse_categorical_crossentropy',\n",
    "              metrics=['accuracy'])\n",
    "\n",
    "history = model_cnn.fit(X_train, y_train, validation_data=(X_validation, y_validation), batch_size=32, epochs=75)\n",
    "\n",
    "\n",
    "test_loss, test_acc = model_cnn.evaluate(X_test, y_test, verbose=2)\n",
    "print('\\nTest accuracy:', test_acc)\n"
   ]
  },
  {
   "cell_type": "code",
   "execution_count": 20,
   "id": "659517e4",
   "metadata": {},
   "outputs": [
    {
     "name": "stdout",
     "output_type": "stream",
     "text": [
      "383/383 - 2s - loss: 0.5324 - accuracy: 0.8156 - 2s/epoch - 6ms/step\n",
      "\n",
      "Test accuracy: 0.815610945224762\n"
     ]
    }
   ],
   "source": [
    "test_loss, test_acc = model_cnn.evaluate(X_test, y_test, verbose=2)\n",
    "print('\\nTest accuracy:', test_acc)"
   ]
  },
  {
   "cell_type": "code",
   "execution_count": 21,
   "id": "e291cb23",
   "metadata": {},
   "outputs": [
    {
     "data": {
      "image/png": "[encoded data removed]",
      "text/plain": [
       "<Figure size 432x288 with 2 Axes>"
      ]
     },
     "metadata": {
      "needs_background": "light"
     },
     "output_type": "display_data"
    }
   ],
   "source": [
    "def plot_history(history):\n",
    "\n",
    "    fig, axs = plt.subplots(2)\n",
    "\n",
    "    axs[0].plot(history.history[\"accuracy\"], label=\"train accuracy\")\n",
    "    axs[0].plot(history.history[\"val_accuracy\"], label=\"test accuracy\")\n",
    "    axs[0].set_ylabel(\"Accuracy\")\n",
    "    axs[0].legend(loc=\"lower right\")\n",
    "    axs[0].set_title(\"Accuracy eval\")\n",
    "\n",
    "    axs[1].plot(history.history[\"loss\"], label=\"train error\")\n",
    "    axs[1].plot(history.history[\"val_loss\"], label=\"test error\")\n",
    "    axs[1].set_ylabel(\"Error\")\n",
    "    axs[1].set_xlabel(\"Epoch\")\n",
    "    axs[1].legend(loc=\"upper right\")\n",
    "    axs[1].set_title(\"Error eval\")\n",
    "    \n",
    "    plt.show()\n",
    "    \n",
    "plot_history(history)"
   ]
  },
  {
   "cell_type": "code",
   "execution_count": 22,
   "id": "d0af8121",
   "metadata": {},
   "outputs": [
    {
     "name": "stdout",
     "output_type": "stream",
     "text": [
      "\n",
      "Real Genre: 2\n",
      "Predicted Genre: 9\n",
      "\n",
      "Real Genre: 7\n",
      "Predicted Genre: 7\n",
      "\n",
      "Real Genre: 7\n",
      "Predicted Genre: 7\n",
      "\n",
      "Real Genre: 2\n",
      "Predicted Genre: 2\n",
      "\n",
      "Real Genre: 7\n",
      "Predicted Genre: 7\n",
      "\n",
      "Real Genre: 4\n",
      "Predicted Genre: 8\n",
      "\n",
      "Real Genre: 5\n",
      "Predicted Genre: 5\n",
      "\n",
      "Real Genre: 1\n",
      "Predicted Genre: 1\n",
      "\n",
      "Real Genre: 9\n",
      "Predicted Genre: 9\n",
      "\n",
      "Real Genre: 7\n",
      "Predicted Genre: 7\n"
     ]
    }
   ],
   "source": [
    "\n",
    "for n in range(10):\n",
    "\n",
    "  i = random.randint(0,len(X_test))\n",
    "  X_to_predict = X_test[i]\n",
    "  y_to_predict = y_test[i]\n",
    "\n",
    "  print(\"\\nReal Genre:\", y_to_predict)\n",
    "\n",
    "  X_to_predict = X_to_predict[np.newaxis, ...]\n",
    "\n",
    "  prediction = model_cnn.predict(X_to_predict)\n",
    "  predicted_index = np.argmax(prediction, axis=1)\n",
    "\n",
    "  print(\"Predicted Genre:\", int(predicted_index))\n",
    "\n",
    "def process_input(audio_file, track_duration):\n",
    "  SAMPLE_RATE = 22050\n",
    "  NUM_MFCC = 13\n",
    "  N_FTT=2048\n",
    "  HOP_LENGTH=512\n",
    "  TRACK_DURATION = track_duration\n",
    "  SAMPLES_PER_TRACK = SAMPLE_RATE * TRACK_DURATION\n",
    "  NUM_SEGMENTS = 10\n",
    "\n",
    "  samples_per_segment = int(SAMPLES_PER_TRACK / NUM_SEGMENTS)\n",
    "  num_mfcc_vectors_per_segment = math.ceil(samples_per_segment / HOP_LENGTH)\n",
    "\n",
    "  signal, sample_rate = librosa.load(audio_file, sr=SAMPLE_RATE)\n",
    "  \n",
    "  for d in range(10):\n",
    "    start = samples_per_segment * d\n",
    "    finish = start + samples_per_segment\n",
    "\n",
    "    mfcc = librosa.feature.mfcc(signal[start:finish], sample_rate, n_mfcc=NUM_MFCC, n_fft=N_FTT, hop_length=HOP_LENGTH)\n",
    "    mfcc = mfcc.T\n",
    "\n",
    "    return mfcc\n",
    "\n",
    "genre_dict = {0:\"hiphop\",1:\"country\",2:\"jazz\",3:\"classical\",4:\"metal\",5:\"pop\",6:\"rock\",7:\"blues\",8:\"reggae\",9:\"disco\"}\n"
   ]
  },
  {
   "cell_type": "code",
   "execution_count": null,
   "id": "344ff713",
   "metadata": {},
   "outputs": [],
   "source": []
  }
 ],
 "metadata": {
  "kernelspec": {
   "display_name": "Python 3 (ipykernel)",
   "language": "python",
   "name": "python3"
  },
  "language_info": {
   "codemirror_mode": {
    "name": "ipython",
    "version": 3
   },
   "file_extension": ".py",
   "mimetype": "text/x-python",
   "name": "python",
   "nbconvert_exporter": "python",
   "pygments_lexer": "ipython3",
   "version": "3.9.7"
  }
 },
 "nbformat": 4,
 "nbformat_minor": 5
}
