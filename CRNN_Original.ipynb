{
 "cells": [
  {
   "cell_type": "code",
   "execution_count": 1,
   "id": "09053a28",
   "metadata": {},
   "outputs": [],
   "source": [
    "import json\n",
    "import os\n",
    "import math\n",
    "import librosa"
   ]
  },
  {
   "cell_type": "code",
   "execution_count": 2,
   "id": "aa73e621",
   "metadata": {},
   "outputs": [],
   "source": [
    "with open('data_finaloriginal.json', \"r\") as f:\n",
    "    data1 = json.load(f)\n",
    "    \n",
    "x1 = data1['mfcc']\n",
    "y1 = data1['labels']"
   ]
  },
  {
   "cell_type": "code",
   "execution_count": 3,
   "id": "bf18d0cf",
   "metadata": {},
   "outputs": [],
   "source": [
    "with open('data_final.json', \"r\") as f:\n",
    "    data2 = json.load(f)\n",
    "    \n",
    "x2 = data2['mfcc']\n",
    "y2 = data2['labels']"
   ]
  },
  {
   "cell_type": "code",
   "execution_count": 4,
   "id": "9bdebf05",
   "metadata": {},
   "outputs": [],
   "source": [
    "import numpy as np\n",
    "\n",
    "Xargs = (np.array(x1), np.array(x2))\n",
    "yargs = (np.array(y1), np.array(y2))"
   ]
  },
  {
   "cell_type": "code",
   "execution_count": 5,
   "id": "6b47ef0c",
   "metadata": {},
   "outputs": [],
   "source": [
    "X = np.concatenate(Xargs)\n",
    "y = np.concatenate(yargs)"
   ]
  },
  {
   "cell_type": "code",
   "execution_count": 6,
   "id": "8f4c182a",
   "metadata": {},
   "outputs": [
    {
     "data": {
      "text/plain": [
       "0"
      ]
     },
     "execution_count": 6,
     "metadata": {},
     "output_type": "execute_result"
    }
   ],
   "source": [
    "import gc\n",
    "\n",
    "del data1\n",
    "del x1\n",
    "del y1\n",
    "del data2\n",
    "del x2\n",
    "del y2\n",
    "del Xargs\n",
    "del yargs\n",
    "\n",
    "gc.collect()"
   ]
  },
  {
   "cell_type": "code",
   "execution_count": 7,
   "id": "0b4a3c85",
   "metadata": {},
   "outputs": [],
   "source": [
    "import json\n",
    "import numpy as np\n",
    "from sklearn.model_selection import train_test_split\n",
    "import tensorflow.keras as keras\n",
    "import matplotlib.pyplot as plt\n",
    "import random\n",
    "import librosa\n",
    "import math"
   ]
  },
  {
   "cell_type": "code",
   "execution_count": 8,
   "id": "f2f574d9",
   "metadata": {},
   "outputs": [],
   "source": [
    "X_train, X_test, y_train, y_test = train_test_split(X, y, test_size=0.25)\n",
    "X_train, X_validation, y_train, y_validation = train_test_split(X_train, y_train, test_size=0.2)\n",
    "\n",
    "X_train = X_train[..., np.newaxis]\n",
    "X_validation = X_validation[..., np.newaxis]\n",
    "X_test = X_test[..., np.newaxis]\n",
    "input_shape = (X_train.shape[1], X_train.shape[2], 1)\n"
   ]
  },
  {
   "cell_type": "code",
   "execution_count": 9,
   "id": "40cfd89a",
   "metadata": {},
   "outputs": [
    {
     "data": {
      "text/plain": [
       "(130, 13, 1)"
      ]
     },
     "execution_count": 9,
     "metadata": {},
     "output_type": "execute_result"
    }
   ],
   "source": [
    "input_shape"
   ]
  },
  {
   "cell_type": "code",
   "execution_count": 17,
   "id": "b4e277ca",
   "metadata": {},
   "outputs": [],
   "source": [
    "import os\n",
    "import fnmatch\n",
    "import numpy as np\n",
    "import string\n",
    "import time\n",
    "\n",
    "from keras.preprocessing.sequence import pad_sequences\n",
    "\n",
    "from keras.layers import Dense, LSTM, Reshape, BatchNormalization, Input, Conv2D, MaxPool2D, Lambda, Bidirectional\n",
    "from keras.models import Model\n",
    "from keras.activations import relu, sigmoid, softmax\n",
    "import keras.backend as K\n",
    "from keras.callbacks import ModelCheckpoint\n",
    "import tensorflow as tf"
   ]
  },
  {
   "cell_type": "code",
   "execution_count": 32,
   "id": "5e7ffe3a",
   "metadata": {},
   "outputs": [
    {
     "name": "stdout",
     "output_type": "stream",
     "text": [
      "Model: \"model_2\"\n",
      "_________________________________________________________________\n",
      " Layer (type)                Output Shape              Param #   \n",
      "=================================================================\n",
      " input_9 (InputLayer)        [(None, 130, 13, 1)]      0         \n",
      "                                                                 \n",
      " conv2d_56 (Conv2D)          (None, 128, 11, 32)       320       \n",
      "                                                                 \n",
      " max_pooling2d_41 (MaxPoolin  (None, 64, 6, 32)        0         \n",
      " g2D)                                                            \n",
      "                                                                 \n",
      " batch_normalization_31 (Bat  (None, 64, 6, 32)        128       \n",
      " chNormalization)                                                \n",
      "                                                                 \n",
      " conv2d_57 (Conv2D)          (None, 62, 4, 32)         9248      \n",
      "                                                                 \n",
      " max_pooling2d_42 (MaxPoolin  (None, 31, 2, 32)        0         \n",
      " g2D)                                                            \n",
      "                                                                 \n",
      " batch_normalization_32 (Bat  (None, 31, 2, 32)        128       \n",
      " chNormalization)                                                \n",
      "                                                                 \n",
      " conv2d_58 (Conv2D)          (None, 30, 1, 32)         4128      \n",
      "                                                                 \n",
      " max_pooling2d_43 (MaxPoolin  (None, 15, 1, 32)        0         \n",
      " g2D)                                                            \n",
      "                                                                 \n",
      " batch_normalization_33 (Bat  (None, 15, 1, 32)        128       \n",
      " chNormalization)                                                \n",
      "                                                                 \n",
      " lambda_8 (Lambda)           (None, 15, 32)            0         \n",
      "                                                                 \n",
      " bidirectional_13 (Bidirecti  (None, 15, 256)          164864    \n",
      " onal)                                                           \n",
      "                                                                 \n",
      " bidirectional_14 (Bidirecti  (None, 15, 256)          394240    \n",
      " onal)                                                           \n",
      "                                                                 \n",
      " flatten_3 (Flatten)         (None, 3840)              0         \n",
      "                                                                 \n",
      " dense_6 (Dense)             (None, 64)                245824    \n",
      "                                                                 \n",
      " dropout_2 (Dropout)         (None, 64)                0         \n",
      "                                                                 \n",
      " dense_7 (Dense)             (None, 10)                650       \n",
      "                                                                 \n",
      "=================================================================\n",
      "Total params: 819,658\n",
      "Trainable params: 819,466\n",
      "Non-trainable params: 192\n",
      "_________________________________________________________________\n"
     ]
    }
   ],
   "source": [
    "# input with shape of height=32 and width=128 \n",
    "inputs = Input(shape=input_shape)\n",
    "\n",
    "conv_1 = Conv2D(32, (3, 3), activation = 'relu')(inputs)\n",
    "pool_1 = MaxPool2D(pool_size=(3, 3), strides=(2, 2), padding='same')(conv_1)\n",
    "batch_norm_1 = BatchNormalization()(pool_1)\n",
    "\n",
    "conv_2 = Conv2D(32, (3, 3), activation = 'relu')(batch_norm_1)\n",
    "pool_2 = MaxPool2D(pool_size=(3, 3), strides=(2, 2), padding='same')(conv_2)\n",
    "batch_norm_2 = BatchNormalization()(pool_2)\n",
    "\n",
    "conv_3 = Conv2D(32, (2, 2), activation = 'relu')(batch_norm_2)\n",
    "pool_3 = MaxPool2D(pool_size=(2, 2), strides=(2, 2), padding='same')(conv_3)\n",
    "batch_norm_3 = BatchNormalization()(pool_3)\n",
    "\n",
    "squeezed = Lambda(lambda x: tf.squeeze(x, 2))(batch_norm_3)\n",
    "\n",
    "# bidirectional LSTM layers with units=128\n",
    "blstm_1 = Bidirectional(LSTM(128, return_sequences=True, dropout = 0.2))(squeezed)\n",
    "blstm_2 = Bidirectional(LSTM(128, return_sequences=True, dropout = 0.2))(blstm_1)\n",
    "\n",
    "flat = keras.layers.Flatten()(blstm_2)\n",
    "dense = Dense(64, activation='relu')(flat)\n",
    "dropout = keras.layers.Dropout(0.3)(dense)\n",
    "\n",
    "outputs = Dense(10, activation = 'softmax')(dropout)\n",
    "\n",
    "act_model = Model(inputs, outputs)\n",
    "act_model.summary()"
   ]
  },
  {
   "cell_type": "code",
   "execution_count": 33,
   "id": "45311cb1",
   "metadata": {},
   "outputs": [
    {
     "name": "stdout",
     "output_type": "stream",
     "text": [
      "Epoch 1/75\n",
      "375/375 [==============================] - 37s 82ms/step - loss: 1.5871 - accuracy: 0.4417 - val_loss: 1.1830 - val_accuracy: 0.5831\n",
      "Epoch 2/75\n",
      "375/375 [==============================] - 32s 86ms/step - loss: 1.2256 - accuracy: 0.5655 - val_loss: 1.0078 - val_accuracy: 0.6505\n",
      "Epoch 3/75\n",
      "375/375 [==============================] - 31s 83ms/step - loss: 1.1184 - accuracy: 0.6076 - val_loss: 0.9080 - val_accuracy: 0.6819\n",
      "Epoch 4/75\n",
      "375/375 [==============================] - 31s 83ms/step - loss: 1.0313 - accuracy: 0.6370 - val_loss: 0.8782 - val_accuracy: 0.6979\n",
      "Epoch 5/75\n",
      "375/375 [==============================] - 31s 84ms/step - loss: 0.9639 - accuracy: 0.6688 - val_loss: 0.8177 - val_accuracy: 0.7200\n",
      "Epoch 6/75\n",
      "375/375 [==============================] - 36s 96ms/step - loss: 0.8985 - accuracy: 0.6921 - val_loss: 0.7590 - val_accuracy: 0.7430\n",
      "Epoch 7/75\n",
      "375/375 [==============================] - 33s 87ms/step - loss: 0.8353 - accuracy: 0.7167 - val_loss: 0.7200 - val_accuracy: 0.7510\n",
      "Epoch 8/75\n",
      "375/375 [==============================] - 33s 89ms/step - loss: 0.7872 - accuracy: 0.7288 - val_loss: 0.6878 - val_accuracy: 0.7644\n",
      "Epoch 9/75\n",
      "375/375 [==============================] - 35s 93ms/step - loss: 0.7627 - accuracy: 0.7354 - val_loss: 0.6773 - val_accuracy: 0.7610\n",
      "Epoch 10/75\n",
      "375/375 [==============================] - 39s 104ms/step - loss: 0.7155 - accuracy: 0.7542 - val_loss: 0.6507 - val_accuracy: 0.7737\n",
      "Epoch 11/75\n",
      "375/375 [==============================] - 44s 117ms/step - loss: 0.6850 - accuracy: 0.7633 - val_loss: 0.6247 - val_accuracy: 0.7854\n",
      "Epoch 12/75\n",
      "375/375 [==============================] - 49s 131ms/step - loss: 0.6441 - accuracy: 0.7768 - val_loss: 0.5885 - val_accuracy: 0.7897\n",
      "Epoch 13/75\n",
      "375/375 [==============================] - 46s 122ms/step - loss: 0.6225 - accuracy: 0.7869 - val_loss: 0.5913 - val_accuracy: 0.7924\n",
      "Epoch 14/75\n",
      "375/375 [==============================] - 40s 108ms/step - loss: 0.6029 - accuracy: 0.7945 - val_loss: 0.5830 - val_accuracy: 0.7947\n",
      "Epoch 15/75\n",
      "375/375 [==============================] - 36s 95ms/step - loss: 0.5776 - accuracy: 0.7978 - val_loss: 0.5311 - val_accuracy: 0.8128\n",
      "Epoch 16/75\n",
      "375/375 [==============================] - 33s 89ms/step - loss: 0.5378 - accuracy: 0.8148 - val_loss: 0.5426 - val_accuracy: 0.8178\n",
      "Epoch 17/75\n",
      "375/375 [==============================] - 36s 96ms/step - loss: 0.5217 - accuracy: 0.8181 - val_loss: 0.5326 - val_accuracy: 0.8121\n",
      "Epoch 18/75\n",
      "375/375 [==============================] - 39s 103ms/step - loss: 0.5042 - accuracy: 0.8249 - val_loss: 0.5017 - val_accuracy: 0.8274\n",
      "Epoch 19/75\n",
      "375/375 [==============================] - 40s 105ms/step - loss: 0.4851 - accuracy: 0.8351 - val_loss: 0.5301 - val_accuracy: 0.8218\n",
      "Epoch 20/75\n",
      "375/375 [==============================] - 38s 101ms/step - loss: 0.4632 - accuracy: 0.8374 - val_loss: 0.5071 - val_accuracy: 0.8264\n",
      "Epoch 21/75\n",
      "375/375 [==============================] - 44s 116ms/step - loss: 0.4520 - accuracy: 0.8446 - val_loss: 0.5118 - val_accuracy: 0.8298\n",
      "Epoch 22/75\n",
      "375/375 [==============================] - 45s 119ms/step - loss: 0.4275 - accuracy: 0.8519 - val_loss: 0.4859 - val_accuracy: 0.8351\n",
      "Epoch 23/75\n",
      "375/375 [==============================] - 42s 113ms/step - loss: 0.4285 - accuracy: 0.8548 - val_loss: 0.4909 - val_accuracy: 0.8371\n",
      "Epoch 24/75\n",
      "375/375 [==============================] - 42s 112ms/step - loss: 0.4118 - accuracy: 0.8554 - val_loss: 0.4917 - val_accuracy: 0.8298\n",
      "Epoch 25/75\n",
      "375/375 [==============================] - 40s 108ms/step - loss: 0.3811 - accuracy: 0.8686 - val_loss: 0.4652 - val_accuracy: 0.8401\n",
      "Epoch 26/75\n",
      "375/375 [==============================] - 42s 112ms/step - loss: 0.3807 - accuracy: 0.8653 - val_loss: 0.4530 - val_accuracy: 0.8471\n",
      "Epoch 27/75\n",
      "375/375 [==============================] - 45s 119ms/step - loss: 0.3636 - accuracy: 0.8718 - val_loss: 0.4312 - val_accuracy: 0.8565\n",
      "Epoch 28/75\n",
      "375/375 [==============================] - 41s 110ms/step - loss: 0.3462 - accuracy: 0.8823 - val_loss: 0.4470 - val_accuracy: 0.8568\n",
      "Epoch 29/75\n",
      "375/375 [==============================] - 42s 113ms/step - loss: 0.3352 - accuracy: 0.8849 - val_loss: 0.4688 - val_accuracy: 0.8495\n",
      "Epoch 30/75\n",
      "375/375 [==============================] - 43s 114ms/step - loss: 0.3339 - accuracy: 0.8861 - val_loss: 0.4185 - val_accuracy: 0.8598\n",
      "Epoch 31/75\n",
      "375/375 [==============================] - 43s 115ms/step - loss: 0.3028 - accuracy: 0.8941 - val_loss: 0.4499 - val_accuracy: 0.8561\n",
      "Epoch 32/75\n",
      "375/375 [==============================] - 43s 115ms/step - loss: 0.3167 - accuracy: 0.8919 - val_loss: 0.4028 - val_accuracy: 0.8625\n",
      "Epoch 33/75\n",
      "375/375 [==============================] - 41s 110ms/step - loss: 0.2890 - accuracy: 0.8999 - val_loss: 0.4478 - val_accuracy: 0.8591\n",
      "Epoch 34/75\n",
      "375/375 [==============================] - 41s 111ms/step - loss: 0.2990 - accuracy: 0.8967 - val_loss: 0.4354 - val_accuracy: 0.8638\n",
      "Epoch 35/75\n",
      "375/375 [==============================] - 41s 108ms/step - loss: 0.2776 - accuracy: 0.9075 - val_loss: 0.3971 - val_accuracy: 0.8692\n",
      "Epoch 36/75\n",
      "375/375 [==============================] - 40s 108ms/step - loss: 0.2656 - accuracy: 0.9082 - val_loss: 0.4005 - val_accuracy: 0.8728\n",
      "Epoch 37/75\n",
      "375/375 [==============================] - 40s 106ms/step - loss: 0.2561 - accuracy: 0.9103 - val_loss: 0.4159 - val_accuracy: 0.8768\n",
      "Epoch 38/75\n",
      "375/375 [==============================] - 40s 107ms/step - loss: 0.2513 - accuracy: 0.9126 - val_loss: 0.3769 - val_accuracy: 0.8812\n",
      "Epoch 39/75\n",
      "375/375 [==============================] - 42s 113ms/step - loss: 0.2420 - accuracy: 0.9147 - val_loss: 0.4083 - val_accuracy: 0.8695\n",
      "Epoch 40/75\n",
      "375/375 [==============================] - 40s 107ms/step - loss: 0.2394 - accuracy: 0.9170 - val_loss: 0.3998 - val_accuracy: 0.8692\n",
      "Epoch 41/75\n",
      "375/375 [==============================] - 40s 108ms/step - loss: 0.2357 - accuracy: 0.9185 - val_loss: 0.3905 - val_accuracy: 0.8762\n",
      "Epoch 42/75\n",
      "375/375 [==============================] - 41s 108ms/step - loss: 0.2140 - accuracy: 0.9251 - val_loss: 0.3937 - val_accuracy: 0.8812\n",
      "Epoch 43/75\n",
      "375/375 [==============================] - 40s 107ms/step - loss: 0.2126 - accuracy: 0.9236 - val_loss: 0.3776 - val_accuracy: 0.8855\n",
      "Epoch 44/75\n",
      "375/375 [==============================] - 40s 107ms/step - loss: 0.2095 - accuracy: 0.9279 - val_loss: 0.3968 - val_accuracy: 0.8795\n",
      "Epoch 45/75\n",
      "375/375 [==============================] - 40s 108ms/step - loss: 0.2077 - accuracy: 0.9297 - val_loss: 0.3957 - val_accuracy: 0.8788\n",
      "Epoch 46/75\n",
      "375/375 [==============================] - 40s 107ms/step - loss: 0.1873 - accuracy: 0.9359 - val_loss: 0.3838 - val_accuracy: 0.8848\n",
      "Epoch 47/75\n",
      "375/375 [==============================] - 40s 108ms/step - loss: 0.1817 - accuracy: 0.9368 - val_loss: 0.4935 - val_accuracy: 0.8578\n",
      "Epoch 48/75\n",
      "375/375 [==============================] - 42s 112ms/step - loss: 0.1850 - accuracy: 0.9367 - val_loss: 0.4230 - val_accuracy: 0.8692\n",
      "Epoch 49/75\n",
      "375/375 [==============================] - 41s 109ms/step - loss: 0.1818 - accuracy: 0.9382 - val_loss: 0.3714 - val_accuracy: 0.8885\n",
      "Epoch 50/75\n",
      "375/375 [==============================] - 41s 108ms/step - loss: 0.1801 - accuracy: 0.9403 - val_loss: 0.3804 - val_accuracy: 0.8905\n",
      "Epoch 51/75\n",
      "375/375 [==============================] - 41s 109ms/step - loss: 0.1749 - accuracy: 0.9425 - val_loss: 0.3748 - val_accuracy: 0.8848\n",
      "Epoch 52/75\n",
      "375/375 [==============================] - 42s 112ms/step - loss: 0.1668 - accuracy: 0.9438 - val_loss: 0.4204 - val_accuracy: 0.8815\n",
      "Epoch 53/75\n",
      "375/375 [==============================] - 41s 109ms/step - loss: 0.1582 - accuracy: 0.9465 - val_loss: 0.3927 - val_accuracy: 0.8818\n",
      "Epoch 54/75\n",
      "375/375 [==============================] - 41s 108ms/step - loss: 0.1605 - accuracy: 0.9430 - val_loss: 0.3945 - val_accuracy: 0.8879\n",
      "Epoch 55/75\n",
      "375/375 [==============================] - 40s 108ms/step - loss: 0.1629 - accuracy: 0.9437 - val_loss: 0.3653 - val_accuracy: 0.8945\n",
      "Epoch 56/75\n",
      "375/375 [==============================] - 42s 112ms/step - loss: 0.1588 - accuracy: 0.9445 - val_loss: 0.4092 - val_accuracy: 0.8855\n",
      "Epoch 57/75\n"
     ]
    },
    {
     "name": "stdout",
     "output_type": "stream",
     "text": [
      "375/375 [==============================] - 41s 109ms/step - loss: 0.1523 - accuracy: 0.9482 - val_loss: 0.4233 - val_accuracy: 0.8818\n",
      "Epoch 58/75\n",
      "375/375 [==============================] - 40s 106ms/step - loss: 0.1476 - accuracy: 0.9498 - val_loss: 0.3753 - val_accuracy: 0.8875\n",
      "Epoch 59/75\n",
      "375/375 [==============================] - 43s 116ms/step - loss: 0.1388 - accuracy: 0.9524 - val_loss: 0.3662 - val_accuracy: 0.8985\n",
      "Epoch 60/75\n",
      "375/375 [==============================] - 39s 105ms/step - loss: 0.1400 - accuracy: 0.9513 - val_loss: 0.3707 - val_accuracy: 0.8955\n",
      "Epoch 61/75\n",
      "375/375 [==============================] - 39s 104ms/step - loss: 0.1352 - accuracy: 0.9528 - val_loss: 0.3537 - val_accuracy: 0.8989\n",
      "Epoch 62/75\n",
      "375/375 [==============================] - 39s 104ms/step - loss: 0.1217 - accuracy: 0.9592 - val_loss: 0.4095 - val_accuracy: 0.8905\n",
      "Epoch 63/75\n",
      "375/375 [==============================] - 39s 104ms/step - loss: 0.1368 - accuracy: 0.9541 - val_loss: 0.3776 - val_accuracy: 0.8962\n",
      "Epoch 64/75\n",
      "375/375 [==============================] - 40s 106ms/step - loss: 0.1303 - accuracy: 0.9570 - val_loss: 0.4044 - val_accuracy: 0.8835\n",
      "Epoch 65/75\n",
      "375/375 [==============================] - 39s 105ms/step - loss: 0.1273 - accuracy: 0.9565 - val_loss: 0.3852 - val_accuracy: 0.8955\n",
      "Epoch 66/75\n",
      "375/375 [==============================] - 41s 110ms/step - loss: 0.1259 - accuracy: 0.9555 - val_loss: 0.3470 - val_accuracy: 0.9012\n",
      "Epoch 67/75\n",
      "375/375 [==============================] - 40s 106ms/step - loss: 0.1158 - accuracy: 0.9604 - val_loss: 0.3906 - val_accuracy: 0.8962\n",
      "Epoch 68/75\n",
      "375/375 [==============================] - 40s 107ms/step - loss: 0.1295 - accuracy: 0.9575 - val_loss: 0.4138 - val_accuracy: 0.8959\n",
      "Epoch 69/75\n",
      "375/375 [==============================] - 40s 108ms/step - loss: 0.1080 - accuracy: 0.9627 - val_loss: 0.3837 - val_accuracy: 0.8962\n",
      "Epoch 70/75\n",
      "375/375 [==============================] - 41s 110ms/step - loss: 0.1308 - accuracy: 0.9534 - val_loss: 0.3848 - val_accuracy: 0.8989\n",
      "Epoch 71/75\n",
      "375/375 [==============================] - 40s 107ms/step - loss: 0.1163 - accuracy: 0.9603 - val_loss: 0.3555 - val_accuracy: 0.9035\n",
      "Epoch 72/75\n",
      "375/375 [==============================] - 42s 111ms/step - loss: 0.1054 - accuracy: 0.9655 - val_loss: 0.3970 - val_accuracy: 0.8965\n",
      "Epoch 73/75\n",
      "375/375 [==============================] - 40s 106ms/step - loss: 0.1174 - accuracy: 0.9617 - val_loss: 0.4061 - val_accuracy: 0.8945\n",
      "Epoch 74/75\n",
      "375/375 [==============================] - 40s 106ms/step - loss: 0.1059 - accuracy: 0.9628 - val_loss: 0.3892 - val_accuracy: 0.9045\n",
      "Epoch 75/75\n",
      "375/375 [==============================] - 40s 108ms/step - loss: 0.1014 - accuracy: 0.9658 - val_loss: 0.3953 - val_accuracy: 0.8982\n",
      "157/157 - 4s - loss: 0.4037 - accuracy: 0.8945 - 4s/epoch - 27ms/step\n",
      "\n",
      "Test accuracy: 0.8944522142410278\n"
     ]
    }
   ],
   "source": [
    "act_model.compile(optimizer=optimiser,\n",
    "              loss='sparse_categorical_crossentropy',\n",
    "              metrics=['accuracy'])\n",
    "\n",
    "history = act_model.fit(X_train, y_train, validation_data=(X_validation, y_validation), batch_size=32, epochs=75)\n",
    "\n",
    "\n",
    "test_loss, test_acc = act_model.evaluate(X_test, y_test, verbose=2)\n",
    "print('\\nTest accuracy:', test_acc)\n"
   ]
  },
  {
   "cell_type": "code",
   "execution_count": 35,
   "id": "96d38659",
   "metadata": {},
   "outputs": [
    {
     "name": "stdout",
     "output_type": "stream",
     "text": [
      "\n",
      "Test accuracy: 0.8944522142410278\n"
     ]
    }
   ],
   "source": [
    "print('\\nTest accuracy:', test_acc)"
   ]
  },
  {
   "cell_type": "code",
   "execution_count": 36,
   "id": "ec9ca08e",
   "metadata": {},
   "outputs": [
    {
     "data": {
      "image/png": "[encoded data removed]",
      "text/plain": [
       "<Figure size 432x288 with 2 Axes>"
      ]
     },
     "metadata": {
      "needs_background": "light"
     },
     "output_type": "display_data"
    }
   ],
   "source": [
    "def plot_history(history):\n",
    "\n",
    "    fig, axs = plt.subplots(2)\n",
    "\n",
    "    axs[0].plot(history.history[\"accuracy\"], label=\"train accuracy\")\n",
    "    axs[0].plot(history.history[\"val_accuracy\"], label=\"test accuracy\")\n",
    "    axs[0].set_ylabel(\"Accuracy\")\n",
    "    axs[0].legend(loc=\"lower right\")\n",
    "    axs[0].set_title(\"Accuracy eval\")\n",
    "\n",
    "    axs[1].plot(history.history[\"loss\"], label=\"train error\")\n",
    "    axs[1].plot(history.history[\"val_loss\"], label=\"test error\")\n",
    "    axs[1].set_ylabel(\"Error\")\n",
    "    axs[1].set_xlabel(\"Epoch\")\n",
    "    axs[1].legend(loc=\"upper right\")\n",
    "    axs[1].set_title(\"Error eval\")\n",
    "    \n",
    "    plt.show()\n",
    "    \n",
    "plot_history(history)"
   ]
  },
  {
   "cell_type": "code",
   "execution_count": null,
   "id": "0b0e1ca8",
   "metadata": {},
   "outputs": [],
   "source": []
  }
 ],
 "metadata": {
  "kernelspec": {
   "display_name": "Python 3 (ipykernel)",
   "language": "python",
   "name": "python3"
  },
  "language_info": {
   "codemirror_mode": {
    "name": "ipython",
    "version": 3
   },
   "file_extension": ".py",
   "mimetype": "text/x-python",
   "name": "python",
   "nbconvert_exporter": "python",
   "pygments_lexer": "ipython3",
   "version": "3.9.7"
  }
 },
 "nbformat": 4,
 "nbformat_minor": 5
}
